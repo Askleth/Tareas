{
 "cells": [
  {
   "cell_type": "code",
   "execution_count": 1,
   "metadata": {},
   "outputs": [],
   "source": [
    "import numpy as np\n",
    "import matplotlib.pyplot as mp\n",
    "import pandas as pd"
   ]
  },
  {
   "cell_type": "code",
   "execution_count": 2,
   "metadata": {},
   "outputs": [],
   "source": [
    "df0 = pd.read_csv(\"obregon.txt\",sep='\\s+')"
   ]
  },
  {
   "cell_type": "code",
   "execution_count": 3,
   "metadata": {},
   "outputs": [
    {
     "data": {
      "text/html": [
       "<div>\n",
       "<style scoped>\n",
       "    .dataframe tbody tr th:only-of-type {\n",
       "        vertical-align: middle;\n",
       "    }\n",
       "\n",
       "    .dataframe tbody tr th {\n",
       "        vertical-align: top;\n",
       "    }\n",
       "\n",
       "    .dataframe thead th {\n",
       "        text-align: right;\n",
       "    }\n",
       "</style>\n",
       "<table border=\"1\" class=\"dataframe\">\n",
       "  <thead>\n",
       "    <tr style=\"text-align: right;\">\n",
       "      <th></th>\n",
       "      <th>FECHA</th>\n",
       "      <th>PRECIP</th>\n",
       "      <th>EVAP</th>\n",
       "      <th>TMAX</th>\n",
       "      <th>TMIN</th>\n",
       "    </tr>\n",
       "  </thead>\n",
       "  <tbody>\n",
       "    <tr>\n",
       "      <th>0</th>\n",
       "      <td>01/02/1990</td>\n",
       "      <td>0.5</td>\n",
       "      <td>3.5</td>\n",
       "      <td>16.0</td>\n",
       "      <td>9.0</td>\n",
       "    </tr>\n",
       "    <tr>\n",
       "      <th>1</th>\n",
       "      <td>02/02/1990</td>\n",
       "      <td>0.0</td>\n",
       "      <td>3.6</td>\n",
       "      <td>19.0</td>\n",
       "      <td>6.0</td>\n",
       "    </tr>\n",
       "    <tr>\n",
       "      <th>2</th>\n",
       "      <td>03/02/1990</td>\n",
       "      <td>0.0</td>\n",
       "      <td>1.9</td>\n",
       "      <td>24.0</td>\n",
       "      <td>4.0</td>\n",
       "    </tr>\n",
       "    <tr>\n",
       "      <th>3</th>\n",
       "      <td>04/02/1990</td>\n",
       "      <td>0.0</td>\n",
       "      <td>2.9</td>\n",
       "      <td>26.0</td>\n",
       "      <td>5.0</td>\n",
       "    </tr>\n",
       "    <tr>\n",
       "      <th>4</th>\n",
       "      <td>05/02/1990</td>\n",
       "      <td>0.0</td>\n",
       "      <td>3.0</td>\n",
       "      <td>22.2</td>\n",
       "      <td>5.0</td>\n",
       "    </tr>\n",
       "  </tbody>\n",
       "</table>\n",
       "</div>"
      ],
      "text/plain": [
       "        FECHA  PRECIP  EVAP  TMAX  TMIN\n",
       "0  01/02/1990     0.5   3.5  16.0   9.0\n",
       "1  02/02/1990     0.0   3.6  19.0   6.0\n",
       "2  03/02/1990     0.0   1.9  24.0   4.0\n",
       "3  04/02/1990     0.0   2.9  26.0   5.0\n",
       "4  05/02/1990     0.0   3.0  22.2   5.0"
      ]
     },
     "execution_count": 3,
     "metadata": {},
     "output_type": "execute_result"
    }
   ],
   "source": [
    "df0.head()"
   ]
  },
  {
   "cell_type": "code",
   "execution_count": 4,
   "metadata": {},
   "outputs": [
    {
     "data": {
      "text/html": [
       "<div>\n",
       "<style scoped>\n",
       "    .dataframe tbody tr th:only-of-type {\n",
       "        vertical-align: middle;\n",
       "    }\n",
       "\n",
       "    .dataframe tbody tr th {\n",
       "        vertical-align: top;\n",
       "    }\n",
       "\n",
       "    .dataframe thead th {\n",
       "        text-align: right;\n",
       "    }\n",
       "</style>\n",
       "<table border=\"1\" class=\"dataframe\">\n",
       "  <thead>\n",
       "    <tr style=\"text-align: right;\">\n",
       "      <th></th>\n",
       "      <th>FECHA</th>\n",
       "      <th>PRECIP</th>\n",
       "      <th>EVAP</th>\n",
       "      <th>TMAX</th>\n",
       "      <th>TMIN</th>\n",
       "    </tr>\n",
       "  </thead>\n",
       "  <tbody>\n",
       "    <tr>\n",
       "      <th>7786</th>\n",
       "      <td>26/12/2011</td>\n",
       "      <td>0.0</td>\n",
       "      <td>2.6</td>\n",
       "      <td>26.0</td>\n",
       "      <td>8.5</td>\n",
       "    </tr>\n",
       "    <tr>\n",
       "      <th>7787</th>\n",
       "      <td>27/12/2011</td>\n",
       "      <td>0.0</td>\n",
       "      <td>2.3</td>\n",
       "      <td>27.0</td>\n",
       "      <td>8.0</td>\n",
       "    </tr>\n",
       "    <tr>\n",
       "      <th>7788</th>\n",
       "      <td>28/12/2011</td>\n",
       "      <td>0.0</td>\n",
       "      <td>2.1</td>\n",
       "      <td>28.0</td>\n",
       "      <td>9.0</td>\n",
       "    </tr>\n",
       "    <tr>\n",
       "      <th>7789</th>\n",
       "      <td>29/12/2011</td>\n",
       "      <td>0.0</td>\n",
       "      <td>2.0</td>\n",
       "      <td>27.5</td>\n",
       "      <td>7.5</td>\n",
       "    </tr>\n",
       "    <tr>\n",
       "      <th>7790</th>\n",
       "      <td>30/12/2011</td>\n",
       "      <td>0.0</td>\n",
       "      <td>1.4</td>\n",
       "      <td>28.0</td>\n",
       "      <td>8.0</td>\n",
       "    </tr>\n",
       "  </tbody>\n",
       "</table>\n",
       "</div>"
      ],
      "text/plain": [
       "           FECHA  PRECIP  EVAP  TMAX  TMIN\n",
       "7786  26/12/2011     0.0   2.6  26.0   8.5\n",
       "7787  27/12/2011     0.0   2.3  27.0   8.0\n",
       "7788  28/12/2011     0.0   2.1  28.0   9.0\n",
       "7789  29/12/2011     0.0   2.0  27.5   7.5\n",
       "7790  30/12/2011     0.0   1.4  28.0   8.0"
      ]
     },
     "execution_count": 4,
     "metadata": {},
     "output_type": "execute_result"
    }
   ],
   "source": [
    "df0.tail()"
   ]
  },
  {
   "cell_type": "code",
   "execution_count": 5,
   "metadata": {},
   "outputs": [],
   "source": [
    "df = pd.DataFrame(df0)"
   ]
  },
  {
   "cell_type": "code",
   "execution_count": 6,
   "metadata": {},
   "outputs": [
    {
     "data": {
      "text/plain": [
       "FECHA      object\n",
       "PRECIP    float64\n",
       "EVAP      float64\n",
       "TMAX      float64\n",
       "TMIN      float64\n",
       "dtype: object"
      ]
     },
     "execution_count": 6,
     "metadata": {},
     "output_type": "execute_result"
    }
   ],
   "source": [
    "df.dtypes"
   ]
  },
  {
   "cell_type": "code",
   "execution_count": 7,
   "metadata": {},
   "outputs": [
    {
     "data": {
      "text/plain": [
       "PRECIP     0.963766\n",
       "EVAP       6.334270\n",
       "TMAX      33.413926\n",
       "TMIN      17.531832\n",
       "dtype: float64"
      ]
     },
     "execution_count": 7,
     "metadata": {},
     "output_type": "execute_result"
    }
   ],
   "source": [
    "df.mean() "
   ]
  },
  {
   "cell_type": "code",
   "execution_count": 8,
   "metadata": {},
   "outputs": [
    {
     "data": {
      "text/plain": [
       "PRECIP    5.854266\n",
       "EVAP      3.080741\n",
       "TMAX      6.144531\n",
       "TMIN      6.633760\n",
       "dtype: float64"
      ]
     },
     "execution_count": 8,
     "metadata": {},
     "output_type": "execute_result"
    }
   ],
   "source": [
    "df.std()"
   ]
  },
  {
   "cell_type": "code",
   "execution_count": 9,
   "metadata": {},
   "outputs": [
    {
     "data": {
      "text/plain": [
       "PRECIP     0.0\n",
       "EVAP       6.2\n",
       "TMAX      34.0\n",
       "TMIN      17.0\n",
       "dtype: float64"
      ]
     },
     "execution_count": 9,
     "metadata": {},
     "output_type": "execute_result"
    }
   ],
   "source": [
    "df.median()"
   ]
  },
  {
   "cell_type": "code",
   "execution_count": 10,
   "metadata": {},
   "outputs": [
    {
     "data": {
      "text/plain": [
       "FECHA     31/12/2010\n",
       "PRECIP         166.8\n",
       "EVAP              16\n",
       "TMAX            46.5\n",
       "TMIN            32.5\n",
       "dtype: object"
      ]
     },
     "execution_count": 10,
     "metadata": {},
     "output_type": "execute_result"
    }
   ],
   "source": [
    "df.max()"
   ]
  },
  {
   "cell_type": "code",
   "execution_count": 11,
   "metadata": {},
   "outputs": [
    {
     "data": {
      "text/plain": [
       "FECHA     01/01/1992\n",
       "PRECIP             0\n",
       "EVAP             0.1\n",
       "TMAX              12\n",
       "TMIN               1\n",
       "dtype: object"
      ]
     },
     "execution_count": 11,
     "metadata": {},
     "output_type": "execute_result"
    }
   ],
   "source": [
    "df.min()"
   ]
  },
  {
   "cell_type": "code",
   "execution_count": 12,
   "metadata": {},
   "outputs": [
    {
     "data": {
      "text/html": [
       "<div>\n",
       "<style scoped>\n",
       "    .dataframe tbody tr th:only-of-type {\n",
       "        vertical-align: middle;\n",
       "    }\n",
       "\n",
       "    .dataframe tbody tr th {\n",
       "        vertical-align: top;\n",
       "    }\n",
       "\n",
       "    .dataframe thead th {\n",
       "        text-align: right;\n",
       "    }\n",
       "</style>\n",
       "<table border=\"1\" class=\"dataframe\">\n",
       "  <thead>\n",
       "    <tr style=\"text-align: right;\">\n",
       "      <th></th>\n",
       "      <th>PRECIP</th>\n",
       "      <th>EVAP</th>\n",
       "      <th>TMAX</th>\n",
       "      <th>TMIN</th>\n",
       "    </tr>\n",
       "  </thead>\n",
       "  <tbody>\n",
       "    <tr>\n",
       "      <th>count</th>\n",
       "      <td>7791.000000</td>\n",
       "      <td>7791.000000</td>\n",
       "      <td>7791.000000</td>\n",
       "      <td>7791.000000</td>\n",
       "    </tr>\n",
       "    <tr>\n",
       "      <th>mean</th>\n",
       "      <td>0.963766</td>\n",
       "      <td>6.334270</td>\n",
       "      <td>33.413926</td>\n",
       "      <td>17.531832</td>\n",
       "    </tr>\n",
       "    <tr>\n",
       "      <th>std</th>\n",
       "      <td>5.854266</td>\n",
       "      <td>3.080741</td>\n",
       "      <td>6.144531</td>\n",
       "      <td>6.633760</td>\n",
       "    </tr>\n",
       "    <tr>\n",
       "      <th>min</th>\n",
       "      <td>0.000000</td>\n",
       "      <td>0.100000</td>\n",
       "      <td>12.000000</td>\n",
       "      <td>1.000000</td>\n",
       "    </tr>\n",
       "    <tr>\n",
       "      <th>25%</th>\n",
       "      <td>0.000000</td>\n",
       "      <td>3.800000</td>\n",
       "      <td>28.500000</td>\n",
       "      <td>12.000000</td>\n",
       "    </tr>\n",
       "    <tr>\n",
       "      <th>50%</th>\n",
       "      <td>0.000000</td>\n",
       "      <td>6.200000</td>\n",
       "      <td>34.000000</td>\n",
       "      <td>17.000000</td>\n",
       "    </tr>\n",
       "    <tr>\n",
       "      <th>75%</th>\n",
       "      <td>0.000000</td>\n",
       "      <td>8.700000</td>\n",
       "      <td>39.000000</td>\n",
       "      <td>24.000000</td>\n",
       "    </tr>\n",
       "    <tr>\n",
       "      <th>max</th>\n",
       "      <td>166.800000</td>\n",
       "      <td>16.000000</td>\n",
       "      <td>46.500000</td>\n",
       "      <td>32.500000</td>\n",
       "    </tr>\n",
       "  </tbody>\n",
       "</table>\n",
       "</div>"
      ],
      "text/plain": [
       "            PRECIP         EVAP         TMAX         TMIN\n",
       "count  7791.000000  7791.000000  7791.000000  7791.000000\n",
       "mean      0.963766     6.334270    33.413926    17.531832\n",
       "std       5.854266     3.080741     6.144531     6.633760\n",
       "min       0.000000     0.100000    12.000000     1.000000\n",
       "25%       0.000000     3.800000    28.500000    12.000000\n",
       "50%       0.000000     6.200000    34.000000    17.000000\n",
       "75%       0.000000     8.700000    39.000000    24.000000\n",
       "max     166.800000    16.000000    46.500000    32.500000"
      ]
     },
     "execution_count": 12,
     "metadata": {},
     "output_type": "execute_result"
    }
   ],
   "source": [
    "df.describe()"
   ]
  },
  {
   "cell_type": "code",
   "execution_count": 13,
   "metadata": {},
   "outputs": [
    {
     "data": {
      "text/plain": [
       "RangeIndex(start=0, stop=7791, step=1)"
      ]
     },
     "execution_count": 13,
     "metadata": {},
     "output_type": "execute_result"
    }
   ],
   "source": [
    "df.index"
   ]
  },
  {
   "cell_type": "code",
   "execution_count": 14,
   "metadata": {},
   "outputs": [
    {
     "data": {
      "text/plain": [
       "Index(['FECHA', 'PRECIP', 'EVAP', 'TMAX', 'TMIN'], dtype='object')"
      ]
     },
     "execution_count": 14,
     "metadata": {},
     "output_type": "execute_result"
    }
   ],
   "source": [
    "df.columns"
   ]
  },
  {
   "cell_type": "code",
   "execution_count": 15,
   "metadata": {},
   "outputs": [
    {
     "data": {
      "text/html": [
       "<div>\n",
       "<style scoped>\n",
       "    .dataframe tbody tr th:only-of-type {\n",
       "        vertical-align: middle;\n",
       "    }\n",
       "\n",
       "    .dataframe tbody tr th {\n",
       "        vertical-align: top;\n",
       "    }\n",
       "\n",
       "    .dataframe thead th {\n",
       "        text-align: right;\n",
       "    }\n",
       "</style>\n",
       "<table border=\"1\" class=\"dataframe\">\n",
       "  <thead>\n",
       "    <tr style=\"text-align: right;\">\n",
       "      <th></th>\n",
       "      <th>variable</th>\n",
       "      <th>value</th>\n",
       "    </tr>\n",
       "  </thead>\n",
       "  <tbody>\n",
       "    <tr>\n",
       "      <th>0</th>\n",
       "      <td>FECHA</td>\n",
       "      <td>01/02/1990</td>\n",
       "    </tr>\n",
       "    <tr>\n",
       "      <th>1</th>\n",
       "      <td>FECHA</td>\n",
       "      <td>02/02/1990</td>\n",
       "    </tr>\n",
       "    <tr>\n",
       "      <th>2</th>\n",
       "      <td>FECHA</td>\n",
       "      <td>03/02/1990</td>\n",
       "    </tr>\n",
       "    <tr>\n",
       "      <th>3</th>\n",
       "      <td>FECHA</td>\n",
       "      <td>04/02/1990</td>\n",
       "    </tr>\n",
       "    <tr>\n",
       "      <th>4</th>\n",
       "      <td>FECHA</td>\n",
       "      <td>05/02/1990</td>\n",
       "    </tr>\n",
       "  </tbody>\n",
       "</table>\n",
       "</div>"
      ],
      "text/plain": [
       "  variable       value\n",
       "0    FECHA  01/02/1990\n",
       "1    FECHA  02/02/1990\n",
       "2    FECHA  03/02/1990\n",
       "3    FECHA  04/02/1990\n",
       "4    FECHA  05/02/1990"
      ]
     },
     "execution_count": 15,
     "metadata": {},
     "output_type": "execute_result"
    }
   ],
   "source": [
    "df2 = pd.melt(df)\n",
    "df2.head()"
   ]
  },
  {
   "cell_type": "markdown",
   "metadata": {},
   "source": [
    "pd.mealt(data_frame) junta las columnas como filas"
   ]
  },
  {
   "cell_type": "code",
   "execution_count": 16,
   "metadata": {},
   "outputs": [
    {
     "data": {
      "text/html": [
       "<div>\n",
       "<style scoped>\n",
       "    .dataframe tbody tr th:only-of-type {\n",
       "        vertical-align: middle;\n",
       "    }\n",
       "\n",
       "    .dataframe tbody tr th {\n",
       "        vertical-align: top;\n",
       "    }\n",
       "\n",
       "    .dataframe thead th {\n",
       "        text-align: right;\n",
       "    }\n",
       "</style>\n",
       "<table border=\"1\" class=\"dataframe\">\n",
       "  <thead>\n",
       "    <tr style=\"text-align: right;\">\n",
       "      <th></th>\n",
       "      <th>FECHA</th>\n",
       "      <th>PRECIP</th>\n",
       "      <th>EVAP</th>\n",
       "      <th>TMAX</th>\n",
       "      <th>TMIN</th>\n",
       "    </tr>\n",
       "  </thead>\n",
       "  <tbody>\n",
       "    <tr>\n",
       "      <th>6259</th>\n",
       "      <td>05/09/2007</td>\n",
       "      <td>166.8</td>\n",
       "      <td>6.0</td>\n",
       "      <td>28.0</td>\n",
       "      <td>23.0</td>\n",
       "    </tr>\n",
       "    <tr>\n",
       "      <th>467</th>\n",
       "      <td>09/09/1991</td>\n",
       "      <td>107.0</td>\n",
       "      <td>0.8</td>\n",
       "      <td>35.0</td>\n",
       "      <td>24.0</td>\n",
       "    </tr>\n",
       "    <tr>\n",
       "      <th>5175</th>\n",
       "      <td>04/09/2004</td>\n",
       "      <td>105.0</td>\n",
       "      <td>4.6</td>\n",
       "      <td>26.0</td>\n",
       "      <td>23.0</td>\n",
       "    </tr>\n",
       "    <tr>\n",
       "      <th>2236</th>\n",
       "      <td>31/07/1996</td>\n",
       "      <td>98.5</td>\n",
       "      <td>1.1</td>\n",
       "      <td>37.0</td>\n",
       "      <td>29.0</td>\n",
       "    </tr>\n",
       "    <tr>\n",
       "      <th>3759</th>\n",
       "      <td>08/10/2000</td>\n",
       "      <td>96.5</td>\n",
       "      <td>7.2</td>\n",
       "      <td>37.5</td>\n",
       "      <td>25.0</td>\n",
       "    </tr>\n",
       "    <tr>\n",
       "      <th>1540</th>\n",
       "      <td>02/09/1994</td>\n",
       "      <td>93.5</td>\n",
       "      <td>4.0</td>\n",
       "      <td>38.0</td>\n",
       "      <td>24.0</td>\n",
       "    </tr>\n",
       "    <tr>\n",
       "      <th>6917</th>\n",
       "      <td>28/06/2009</td>\n",
       "      <td>85.0</td>\n",
       "      <td>10.1</td>\n",
       "      <td>36.0</td>\n",
       "      <td>26.0</td>\n",
       "    </tr>\n",
       "    <tr>\n",
       "      <th>1917</th>\n",
       "      <td>14/09/1995</td>\n",
       "      <td>80.5</td>\n",
       "      <td>5.4</td>\n",
       "      <td>30.5</td>\n",
       "      <td>22.0</td>\n",
       "    </tr>\n",
       "    <tr>\n",
       "      <th>6982</th>\n",
       "      <td>03/09/2009</td>\n",
       "      <td>74.0</td>\n",
       "      <td>9.6</td>\n",
       "      <td>30.0</td>\n",
       "      <td>25.0</td>\n",
       "    </tr>\n",
       "    <tr>\n",
       "      <th>5506</th>\n",
       "      <td>08/08/2005</td>\n",
       "      <td>73.0</td>\n",
       "      <td>7.6</td>\n",
       "      <td>37.0</td>\n",
       "      <td>26.0</td>\n",
       "    </tr>\n",
       "    <tr>\n",
       "      <th>7632</th>\n",
       "      <td>21/07/2011</td>\n",
       "      <td>70.0</td>\n",
       "      <td>6.5</td>\n",
       "      <td>41.0</td>\n",
       "      <td>26.0</td>\n",
       "    </tr>\n",
       "    <tr>\n",
       "      <th>1634</th>\n",
       "      <td>05/12/1994</td>\n",
       "      <td>70.0</td>\n",
       "      <td>0.2</td>\n",
       "      <td>20.5</td>\n",
       "      <td>14.5</td>\n",
       "    </tr>\n",
       "    <tr>\n",
       "      <th>4111</th>\n",
       "      <td>29/09/2001</td>\n",
       "      <td>68.2</td>\n",
       "      <td>5.8</td>\n",
       "      <td>33.0</td>\n",
       "      <td>23.0</td>\n",
       "    </tr>\n",
       "    <tr>\n",
       "      <th>453</th>\n",
       "      <td>26/08/1991</td>\n",
       "      <td>65.5</td>\n",
       "      <td>1.3</td>\n",
       "      <td>32.0</td>\n",
       "      <td>24.0</td>\n",
       "    </tr>\n",
       "    <tr>\n",
       "      <th>839</th>\n",
       "      <td>17/09/1992</td>\n",
       "      <td>65.0</td>\n",
       "      <td>7.0</td>\n",
       "      <td>38.5</td>\n",
       "      <td>25.5</td>\n",
       "    </tr>\n",
       "    <tr>\n",
       "      <th>5188</th>\n",
       "      <td>18/09/2004</td>\n",
       "      <td>63.5</td>\n",
       "      <td>3.6</td>\n",
       "      <td>34.0</td>\n",
       "      <td>24.0</td>\n",
       "    </tr>\n",
       "    <tr>\n",
       "      <th>2610</th>\n",
       "      <td>14/08/1997</td>\n",
       "      <td>61.5</td>\n",
       "      <td>9.2</td>\n",
       "      <td>38.5</td>\n",
       "      <td>26.5</td>\n",
       "    </tr>\n",
       "    <tr>\n",
       "      <th>5168</th>\n",
       "      <td>28/08/2004</td>\n",
       "      <td>60.0</td>\n",
       "      <td>8.3</td>\n",
       "      <td>42.0</td>\n",
       "      <td>28.0</td>\n",
       "    </tr>\n",
       "    <tr>\n",
       "      <th>793</th>\n",
       "      <td>02/08/1992</td>\n",
       "      <td>60.0</td>\n",
       "      <td>5.0</td>\n",
       "      <td>38.0</td>\n",
       "      <td>25.0</td>\n",
       "    </tr>\n",
       "    <tr>\n",
       "      <th>4407</th>\n",
       "      <td>24/07/2002</td>\n",
       "      <td>58.0</td>\n",
       "      <td>5.4</td>\n",
       "      <td>39.0</td>\n",
       "      <td>24.0</td>\n",
       "    </tr>\n",
       "    <tr>\n",
       "      <th>2967</th>\n",
       "      <td>07/08/1998</td>\n",
       "      <td>56.5</td>\n",
       "      <td>5.8</td>\n",
       "      <td>37.5</td>\n",
       "      <td>21.0</td>\n",
       "    </tr>\n",
       "    <tr>\n",
       "      <th>7649</th>\n",
       "      <td>08/08/2011</td>\n",
       "      <td>56.0</td>\n",
       "      <td>3.6</td>\n",
       "      <td>41.0</td>\n",
       "      <td>26.0</td>\n",
       "    </tr>\n",
       "    <tr>\n",
       "      <th>2622</th>\n",
       "      <td>26/08/1997</td>\n",
       "      <td>53.5</td>\n",
       "      <td>7.0</td>\n",
       "      <td>40.0</td>\n",
       "      <td>25.0</td>\n",
       "    </tr>\n",
       "    <tr>\n",
       "      <th>558</th>\n",
       "      <td>10/12/1991</td>\n",
       "      <td>53.5</td>\n",
       "      <td>1.1</td>\n",
       "      <td>26.0</td>\n",
       "      <td>15.0</td>\n",
       "    </tr>\n",
       "    <tr>\n",
       "      <th>5943</th>\n",
       "      <td>23/10/2006</td>\n",
       "      <td>51.5</td>\n",
       "      <td>5.0</td>\n",
       "      <td>35.0</td>\n",
       "      <td>18.0</td>\n",
       "    </tr>\n",
       "    <tr>\n",
       "      <th>2650</th>\n",
       "      <td>23/09/1997</td>\n",
       "      <td>49.0</td>\n",
       "      <td>9.0</td>\n",
       "      <td>30.0</td>\n",
       "      <td>26.5</td>\n",
       "    </tr>\n",
       "    <tr>\n",
       "      <th>6611</th>\n",
       "      <td>24/08/2008</td>\n",
       "      <td>48.0</td>\n",
       "      <td>4.3</td>\n",
       "      <td>35.0</td>\n",
       "      <td>24.0</td>\n",
       "    </tr>\n",
       "    <tr>\n",
       "      <th>6627</th>\n",
       "      <td>10/09/2008</td>\n",
       "      <td>47.0</td>\n",
       "      <td>5.8</td>\n",
       "      <td>27.0</td>\n",
       "      <td>24.0</td>\n",
       "    </tr>\n",
       "    <tr>\n",
       "      <th>7744</th>\n",
       "      <td>13/11/2011</td>\n",
       "      <td>46.0</td>\n",
       "      <td>2.0</td>\n",
       "      <td>23.0</td>\n",
       "      <td>17.0</td>\n",
       "    </tr>\n",
       "    <tr>\n",
       "      <th>4047</th>\n",
       "      <td>26/07/2001</td>\n",
       "      <td>44.5</td>\n",
       "      <td>3.9</td>\n",
       "      <td>37.5</td>\n",
       "      <td>24.0</td>\n",
       "    </tr>\n",
       "    <tr>\n",
       "      <th>...</th>\n",
       "      <td>...</td>\n",
       "      <td>...</td>\n",
       "      <td>...</td>\n",
       "      <td>...</td>\n",
       "      <td>...</td>\n",
       "    </tr>\n",
       "    <tr>\n",
       "      <th>2720</th>\n",
       "      <td>02/12/1997</td>\n",
       "      <td>0.0</td>\n",
       "      <td>1.1</td>\n",
       "      <td>27.0</td>\n",
       "      <td>9.5</td>\n",
       "    </tr>\n",
       "    <tr>\n",
       "      <th>2750</th>\n",
       "      <td>02/01/1998</td>\n",
       "      <td>0.0</td>\n",
       "      <td>2.6</td>\n",
       "      <td>28.0</td>\n",
       "      <td>10.5</td>\n",
       "    </tr>\n",
       "    <tr>\n",
       "      <th>2751</th>\n",
       "      <td>03/01/1998</td>\n",
       "      <td>0.0</td>\n",
       "      <td>1.7</td>\n",
       "      <td>21.0</td>\n",
       "      <td>13.5</td>\n",
       "    </tr>\n",
       "    <tr>\n",
       "      <th>2752</th>\n",
       "      <td>04/01/1998</td>\n",
       "      <td>0.0</td>\n",
       "      <td>1.5</td>\n",
       "      <td>23.0</td>\n",
       "      <td>14.0</td>\n",
       "    </tr>\n",
       "    <tr>\n",
       "      <th>2766</th>\n",
       "      <td>18/01/1998</td>\n",
       "      <td>0.0</td>\n",
       "      <td>2.9</td>\n",
       "      <td>31.0</td>\n",
       "      <td>8.0</td>\n",
       "    </tr>\n",
       "    <tr>\n",
       "      <th>2777</th>\n",
       "      <td>29/01/1998</td>\n",
       "      <td>0.0</td>\n",
       "      <td>2.2</td>\n",
       "      <td>25.0</td>\n",
       "      <td>10.0</td>\n",
       "    </tr>\n",
       "    <tr>\n",
       "      <th>2776</th>\n",
       "      <td>28/01/1998</td>\n",
       "      <td>0.0</td>\n",
       "      <td>1.8</td>\n",
       "      <td>29.0</td>\n",
       "      <td>12.0</td>\n",
       "    </tr>\n",
       "    <tr>\n",
       "      <th>2775</th>\n",
       "      <td>27/01/1998</td>\n",
       "      <td>0.0</td>\n",
       "      <td>2.2</td>\n",
       "      <td>29.0</td>\n",
       "      <td>9.0</td>\n",
       "    </tr>\n",
       "    <tr>\n",
       "      <th>2774</th>\n",
       "      <td>26/01/1998</td>\n",
       "      <td>0.0</td>\n",
       "      <td>3.0</td>\n",
       "      <td>30.0</td>\n",
       "      <td>10.0</td>\n",
       "    </tr>\n",
       "    <tr>\n",
       "      <th>2773</th>\n",
       "      <td>25/01/1998</td>\n",
       "      <td>0.0</td>\n",
       "      <td>3.1</td>\n",
       "      <td>27.1</td>\n",
       "      <td>8.0</td>\n",
       "    </tr>\n",
       "    <tr>\n",
       "      <th>2772</th>\n",
       "      <td>24/01/1998</td>\n",
       "      <td>0.0</td>\n",
       "      <td>2.8</td>\n",
       "      <td>27.5</td>\n",
       "      <td>9.0</td>\n",
       "    </tr>\n",
       "    <tr>\n",
       "      <th>2771</th>\n",
       "      <td>23/01/1998</td>\n",
       "      <td>0.0</td>\n",
       "      <td>3.7</td>\n",
       "      <td>29.0</td>\n",
       "      <td>10.0</td>\n",
       "    </tr>\n",
       "    <tr>\n",
       "      <th>2770</th>\n",
       "      <td>22/01/1998</td>\n",
       "      <td>0.0</td>\n",
       "      <td>2.2</td>\n",
       "      <td>25.0</td>\n",
       "      <td>11.0</td>\n",
       "    </tr>\n",
       "    <tr>\n",
       "      <th>2769</th>\n",
       "      <td>21/01/1998</td>\n",
       "      <td>0.0</td>\n",
       "      <td>1.0</td>\n",
       "      <td>23.0</td>\n",
       "      <td>13.0</td>\n",
       "    </tr>\n",
       "    <tr>\n",
       "      <th>2768</th>\n",
       "      <td>20/01/1998</td>\n",
       "      <td>0.0</td>\n",
       "      <td>1.2</td>\n",
       "      <td>26.5</td>\n",
       "      <td>11.0</td>\n",
       "    </tr>\n",
       "    <tr>\n",
       "      <th>2767</th>\n",
       "      <td>19/01/1998</td>\n",
       "      <td>0.0</td>\n",
       "      <td>1.9</td>\n",
       "      <td>26.0</td>\n",
       "      <td>9.0</td>\n",
       "    </tr>\n",
       "    <tr>\n",
       "      <th>2765</th>\n",
       "      <td>17/01/1998</td>\n",
       "      <td>0.0</td>\n",
       "      <td>4.0</td>\n",
       "      <td>31.0</td>\n",
       "      <td>9.0</td>\n",
       "    </tr>\n",
       "    <tr>\n",
       "      <th>2753</th>\n",
       "      <td>05/01/1998</td>\n",
       "      <td>0.0</td>\n",
       "      <td>2.0</td>\n",
       "      <td>23.0</td>\n",
       "      <td>11.0</td>\n",
       "    </tr>\n",
       "    <tr>\n",
       "      <th>2764</th>\n",
       "      <td>16/01/1998</td>\n",
       "      <td>0.0</td>\n",
       "      <td>2.5</td>\n",
       "      <td>26.0</td>\n",
       "      <td>9.0</td>\n",
       "    </tr>\n",
       "    <tr>\n",
       "      <th>2763</th>\n",
       "      <td>15/01/1998</td>\n",
       "      <td>0.0</td>\n",
       "      <td>1.9</td>\n",
       "      <td>26.5</td>\n",
       "      <td>10.0</td>\n",
       "    </tr>\n",
       "    <tr>\n",
       "      <th>2762</th>\n",
       "      <td>14/01/1998</td>\n",
       "      <td>0.0</td>\n",
       "      <td>2.4</td>\n",
       "      <td>24.0</td>\n",
       "      <td>10.0</td>\n",
       "    </tr>\n",
       "    <tr>\n",
       "      <th>2761</th>\n",
       "      <td>13/01/1998</td>\n",
       "      <td>0.0</td>\n",
       "      <td>2.1</td>\n",
       "      <td>24.0</td>\n",
       "      <td>8.0</td>\n",
       "    </tr>\n",
       "    <tr>\n",
       "      <th>2760</th>\n",
       "      <td>12/01/1998</td>\n",
       "      <td>0.0</td>\n",
       "      <td>1.4</td>\n",
       "      <td>25.0</td>\n",
       "      <td>8.0</td>\n",
       "    </tr>\n",
       "    <tr>\n",
       "      <th>2759</th>\n",
       "      <td>11/01/1998</td>\n",
       "      <td>0.0</td>\n",
       "      <td>2.1</td>\n",
       "      <td>25.0</td>\n",
       "      <td>8.5</td>\n",
       "    </tr>\n",
       "    <tr>\n",
       "      <th>2758</th>\n",
       "      <td>10/01/1998</td>\n",
       "      <td>0.0</td>\n",
       "      <td>1.8</td>\n",
       "      <td>20.5</td>\n",
       "      <td>7.0</td>\n",
       "    </tr>\n",
       "    <tr>\n",
       "      <th>2757</th>\n",
       "      <td>09/01/1998</td>\n",
       "      <td>0.0</td>\n",
       "      <td>2.1</td>\n",
       "      <td>23.0</td>\n",
       "      <td>6.0</td>\n",
       "    </tr>\n",
       "    <tr>\n",
       "      <th>2756</th>\n",
       "      <td>08/01/1998</td>\n",
       "      <td>0.0</td>\n",
       "      <td>4.0</td>\n",
       "      <td>22.0</td>\n",
       "      <td>7.0</td>\n",
       "    </tr>\n",
       "    <tr>\n",
       "      <th>2755</th>\n",
       "      <td>07/01/1998</td>\n",
       "      <td>0.0</td>\n",
       "      <td>2.4</td>\n",
       "      <td>23.0</td>\n",
       "      <td>9.0</td>\n",
       "    </tr>\n",
       "    <tr>\n",
       "      <th>2754</th>\n",
       "      <td>06/01/1998</td>\n",
       "      <td>0.0</td>\n",
       "      <td>1.6</td>\n",
       "      <td>21.5</td>\n",
       "      <td>11.0</td>\n",
       "    </tr>\n",
       "    <tr>\n",
       "      <th>7790</th>\n",
       "      <td>30/12/2011</td>\n",
       "      <td>0.0</td>\n",
       "      <td>1.4</td>\n",
       "      <td>28.0</td>\n",
       "      <td>8.0</td>\n",
       "    </tr>\n",
       "  </tbody>\n",
       "</table>\n",
       "<p>7791 rows × 5 columns</p>\n",
       "</div>"
      ],
      "text/plain": [
       "           FECHA  PRECIP  EVAP  TMAX  TMIN\n",
       "6259  05/09/2007   166.8   6.0  28.0  23.0\n",
       "467   09/09/1991   107.0   0.8  35.0  24.0\n",
       "5175  04/09/2004   105.0   4.6  26.0  23.0\n",
       "2236  31/07/1996    98.5   1.1  37.0  29.0\n",
       "3759  08/10/2000    96.5   7.2  37.5  25.0\n",
       "1540  02/09/1994    93.5   4.0  38.0  24.0\n",
       "6917  28/06/2009    85.0  10.1  36.0  26.0\n",
       "1917  14/09/1995    80.5   5.4  30.5  22.0\n",
       "6982  03/09/2009    74.0   9.6  30.0  25.0\n",
       "5506  08/08/2005    73.0   7.6  37.0  26.0\n",
       "7632  21/07/2011    70.0   6.5  41.0  26.0\n",
       "1634  05/12/1994    70.0   0.2  20.5  14.5\n",
       "4111  29/09/2001    68.2   5.8  33.0  23.0\n",
       "453   26/08/1991    65.5   1.3  32.0  24.0\n",
       "839   17/09/1992    65.0   7.0  38.5  25.5\n",
       "5188  18/09/2004    63.5   3.6  34.0  24.0\n",
       "2610  14/08/1997    61.5   9.2  38.5  26.5\n",
       "5168  28/08/2004    60.0   8.3  42.0  28.0\n",
       "793   02/08/1992    60.0   5.0  38.0  25.0\n",
       "4407  24/07/2002    58.0   5.4  39.0  24.0\n",
       "2967  07/08/1998    56.5   5.8  37.5  21.0\n",
       "7649  08/08/2011    56.0   3.6  41.0  26.0\n",
       "2622  26/08/1997    53.5   7.0  40.0  25.0\n",
       "558   10/12/1991    53.5   1.1  26.0  15.0\n",
       "5943  23/10/2006    51.5   5.0  35.0  18.0\n",
       "2650  23/09/1997    49.0   9.0  30.0  26.5\n",
       "6611  24/08/2008    48.0   4.3  35.0  24.0\n",
       "6627  10/09/2008    47.0   5.8  27.0  24.0\n",
       "7744  13/11/2011    46.0   2.0  23.0  17.0\n",
       "4047  26/07/2001    44.5   3.9  37.5  24.0\n",
       "...          ...     ...   ...   ...   ...\n",
       "2720  02/12/1997     0.0   1.1  27.0   9.5\n",
       "2750  02/01/1998     0.0   2.6  28.0  10.5\n",
       "2751  03/01/1998     0.0   1.7  21.0  13.5\n",
       "2752  04/01/1998     0.0   1.5  23.0  14.0\n",
       "2766  18/01/1998     0.0   2.9  31.0   8.0\n",
       "2777  29/01/1998     0.0   2.2  25.0  10.0\n",
       "2776  28/01/1998     0.0   1.8  29.0  12.0\n",
       "2775  27/01/1998     0.0   2.2  29.0   9.0\n",
       "2774  26/01/1998     0.0   3.0  30.0  10.0\n",
       "2773  25/01/1998     0.0   3.1  27.1   8.0\n",
       "2772  24/01/1998     0.0   2.8  27.5   9.0\n",
       "2771  23/01/1998     0.0   3.7  29.0  10.0\n",
       "2770  22/01/1998     0.0   2.2  25.0  11.0\n",
       "2769  21/01/1998     0.0   1.0  23.0  13.0\n",
       "2768  20/01/1998     0.0   1.2  26.5  11.0\n",
       "2767  19/01/1998     0.0   1.9  26.0   9.0\n",
       "2765  17/01/1998     0.0   4.0  31.0   9.0\n",
       "2753  05/01/1998     0.0   2.0  23.0  11.0\n",
       "2764  16/01/1998     0.0   2.5  26.0   9.0\n",
       "2763  15/01/1998     0.0   1.9  26.5  10.0\n",
       "2762  14/01/1998     0.0   2.4  24.0  10.0\n",
       "2761  13/01/1998     0.0   2.1  24.0   8.0\n",
       "2760  12/01/1998     0.0   1.4  25.0   8.0\n",
       "2759  11/01/1998     0.0   2.1  25.0   8.5\n",
       "2758  10/01/1998     0.0   1.8  20.5   7.0\n",
       "2757  09/01/1998     0.0   2.1  23.0   6.0\n",
       "2756  08/01/1998     0.0   4.0  22.0   7.0\n",
       "2755  07/01/1998     0.0   2.4  23.0   9.0\n",
       "2754  06/01/1998     0.0   1.6  21.5  11.0\n",
       "7790  30/12/2011     0.0   1.4  28.0   8.0\n",
       "\n",
       "[7791 rows x 5 columns]"
      ]
     },
     "execution_count": 16,
     "metadata": {},
     "output_type": "execute_result"
    }
   ],
   "source": [
    "df2 = df\n",
    "df2.sort_values(\"PRECIP\",ascending = False)"
   ]
  },
  {
   "cell_type": "markdown",
   "metadata": {},
   "source": [
    "La funcion data_frame.sort_values(col,arg) ordena los datos de la columna col; si no se agrega ningun argumento, el orden es ascendente."
   ]
  },
  {
   "cell_type": "code",
   "execution_count": 17,
   "metadata": {},
   "outputs": [],
   "source": [
    "df['FECHA'] = pd.to_datetime(df.FECHA)"
   ]
  },
  {
   "cell_type": "code",
   "execution_count": 18,
   "metadata": {},
   "outputs": [
    {
     "data": {
      "text/plain": [
       "<matplotlib.axes._subplots.AxesSubplot at 0x15aff232588>"
      ]
     },
     "execution_count": 18,
     "metadata": {},
     "output_type": "execute_result"
    },
    {
     "data": {
      "image/png": "[encoded data removed]",
      "text/plain": [
       "<Figure size 432x288 with 1 Axes>"
      ]
     },
     "metadata": {
      "needs_background": "light"
     },
     "output_type": "display_data"
    }
   ],
   "source": [
    "df.plot(\"FECHA\",\"PRECIP\")"
   ]
  },
  {
   "cell_type": "code",
   "execution_count": 19,
   "metadata": {},
   "outputs": [
    {
     "data": {
      "text/plain": [
       "FECHA     datetime64[ns]\n",
       "PRECIP           float64\n",
       "EVAP             float64\n",
       "TMAX             float64\n",
       "TMIN             float64\n",
       "dtype: object"
      ]
     },
     "execution_count": 19,
     "metadata": {},
     "output_type": "execute_result"
    }
   ],
   "source": [
    "df.dtypes"
   ]
  },
  {
   "cell_type": "code",
   "execution_count": 20,
   "metadata": {},
   "outputs": [
    {
     "data": {
      "text/html": [
       "<div>\n",
       "<style scoped>\n",
       "    .dataframe tbody tr th:only-of-type {\n",
       "        vertical-align: middle;\n",
       "    }\n",
       "\n",
       "    .dataframe tbody tr th {\n",
       "        vertical-align: top;\n",
       "    }\n",
       "\n",
       "    .dataframe thead th {\n",
       "        text-align: right;\n",
       "    }\n",
       "</style>\n",
       "<table border=\"1\" class=\"dataframe\">\n",
       "  <thead>\n",
       "    <tr style=\"text-align: right;\">\n",
       "      <th></th>\n",
       "      <th>PRECIP</th>\n",
       "      <th>EVAP</th>\n",
       "      <th>TMAX</th>\n",
       "      <th>TMIN</th>\n",
       "    </tr>\n",
       "  </thead>\n",
       "  <tbody>\n",
       "    <tr>\n",
       "      <th>count</th>\n",
       "      <td>7791.000000</td>\n",
       "      <td>7791.000000</td>\n",
       "      <td>7791.000000</td>\n",
       "      <td>7791.000000</td>\n",
       "    </tr>\n",
       "    <tr>\n",
       "      <th>mean</th>\n",
       "      <td>0.963766</td>\n",
       "      <td>6.334270</td>\n",
       "      <td>33.413926</td>\n",
       "      <td>17.531832</td>\n",
       "    </tr>\n",
       "    <tr>\n",
       "      <th>std</th>\n",
       "      <td>5.854266</td>\n",
       "      <td>3.080741</td>\n",
       "      <td>6.144531</td>\n",
       "      <td>6.633760</td>\n",
       "    </tr>\n",
       "    <tr>\n",
       "      <th>min</th>\n",
       "      <td>0.000000</td>\n",
       "      <td>0.100000</td>\n",
       "      <td>12.000000</td>\n",
       "      <td>1.000000</td>\n",
       "    </tr>\n",
       "    <tr>\n",
       "      <th>25%</th>\n",
       "      <td>0.000000</td>\n",
       "      <td>3.800000</td>\n",
       "      <td>28.500000</td>\n",
       "      <td>12.000000</td>\n",
       "    </tr>\n",
       "    <tr>\n",
       "      <th>50%</th>\n",
       "      <td>0.000000</td>\n",
       "      <td>6.200000</td>\n",
       "      <td>34.000000</td>\n",
       "      <td>17.000000</td>\n",
       "    </tr>\n",
       "    <tr>\n",
       "      <th>75%</th>\n",
       "      <td>0.000000</td>\n",
       "      <td>8.700000</td>\n",
       "      <td>39.000000</td>\n",
       "      <td>24.000000</td>\n",
       "    </tr>\n",
       "    <tr>\n",
       "      <th>max</th>\n",
       "      <td>166.800000</td>\n",
       "      <td>16.000000</td>\n",
       "      <td>46.500000</td>\n",
       "      <td>32.500000</td>\n",
       "    </tr>\n",
       "  </tbody>\n",
       "</table>\n",
       "</div>"
      ],
      "text/plain": [
       "            PRECIP         EVAP         TMAX         TMIN\n",
       "count  7791.000000  7791.000000  7791.000000  7791.000000\n",
       "mean      0.963766     6.334270    33.413926    17.531832\n",
       "std       5.854266     3.080741     6.144531     6.633760\n",
       "min       0.000000     0.100000    12.000000     1.000000\n",
       "25%       0.000000     3.800000    28.500000    12.000000\n",
       "50%       0.000000     6.200000    34.000000    17.000000\n",
       "75%       0.000000     8.700000    39.000000    24.000000\n",
       "max     166.800000    16.000000    46.500000    32.500000"
      ]
     },
     "execution_count": 20,
     "metadata": {},
     "output_type": "execute_result"
    }
   ],
   "source": [
    "df.describe()"
   ]
  },
  {
   "cell_type": "code",
   "execution_count": 21,
   "metadata": {},
   "outputs": [
    {
     "data": {
      "text/plain": [
       "FECHA\n",
       "June         0.393157\n",
       "December     0.411810\n",
       "January      0.457256\n",
       "March        0.554882\n",
       "November     0.562637\n",
       "April        0.576316\n",
       "May          0.670846\n",
       "October      0.703374\n",
       "February     0.738235\n",
       "September    1.923795\n",
       "August       2.229911\n",
       "July         2.268429\n",
       "Name: PRECIP, dtype: float64"
      ]
     },
     "execution_count": 21,
     "metadata": {},
     "output_type": "execute_result"
    }
   ],
   "source": [
    "df.groupby(df['FECHA'].dt.strftime('%B'))['PRECIP'].mean().sort_values()"
   ]
  },
  {
   "cell_type": "markdown",
   "metadata": {},
   "source": [
    "Utilizando esa linea de código podemos determiran cual es la media de las precipitaciones agrupadas por mes, por lo que podemos ver cual es el mes más lluvioso y menos lluvioso en promedio."
   ]
  },
  {
   "cell_type": "code",
   "execution_count": 22,
   "metadata": {},
   "outputs": [
    {
     "name": "stdout",
     "output_type": "stream",
     "text": [
      "Promedio de la temperatura minima por mes\n",
      "FECHA\n",
      "December     12.556748\n",
      "January      12.896688\n",
      "February     13.623856\n",
      "March        14.432692\n",
      "November     14.751962\n",
      "April        16.053406\n",
      "October      18.289110\n",
      "May          18.570997\n",
      "September    21.655521\n",
      "June         22.004977\n",
      "August       22.453125\n",
      "July         22.635196\n",
      "Name: TMIN, dtype: float64\n",
      "\n",
      "Promedio de la temperatura maxima por mes\n",
      "FECHA\n",
      "December     28.272393\n",
      "January      28.889748\n",
      "February     29.914216\n",
      "November     30.912088\n",
      "March        31.241124\n",
      "April        33.720588\n",
      "October      34.484663\n",
      "May          35.652115\n",
      "September    36.566096\n",
      "August       36.877976\n",
      "July         36.959970\n",
      "June         37.060653\n",
      "Name: TMAX, dtype: float64\n"
     ]
    }
   ],
   "source": [
    "print(\"Promedio de la temperatura minima por mes\")\n",
    "print(df.groupby(df['FECHA'].dt.strftime('%B'))['TMIN'].mean().sort_values() )\n",
    "print(\"\")\n",
    "print(\"Promedio de la temperatura maxima por mes\")\n",
    "print(df.groupby(df['FECHA'].dt.strftime('%B'))['TMAX'].mean().sort_values() )"
   ]
  },
  {
   "cell_type": "markdown",
   "metadata": {},
   "source": [
    "**Diciembre** fue el mes más frio en promedio.\n",
    "\n",
    "**Junio** fue el mes más caliente en promedio."
   ]
  },
  {
   "cell_type": "code",
   "execution_count": 23,
   "metadata": {},
   "outputs": [
    {
     "data": {
      "text/plain": [
       "FECHA\n",
       "1998    0.512603\n",
       "2006    0.571901\n",
       "2001    0.673130\n",
       "1999    0.692877\n",
       "2010    0.717452\n",
       "1993    0.734375\n",
       "2003    0.778846\n",
       "2000    0.796419\n",
       "1995    0.799176\n",
       "2009    0.938066\n",
       "2002    0.957692\n",
       "2011    0.969444\n",
       "1996    1.008864\n",
       "2007    1.035813\n",
       "1990    1.087449\n",
       "2008    1.131868\n",
       "2005    1.136415\n",
       "1994    1.259615\n",
       "1997    1.276860\n",
       "1991    1.313814\n",
       "2004    1.375069\n",
       "1992    1.497534\n",
       "Name: PRECIP, dtype: float64"
      ]
     },
     "execution_count": 23,
     "metadata": {},
     "output_type": "execute_result"
    }
   ],
   "source": [
    "df.groupby(df['FECHA'].dt.strftime('%Y'))['PRECIP'].mean().sort_values()"
   ]
  },
  {
   "cell_type": "markdown",
   "metadata": {},
   "source": [
    "Podemos ver que **1992** fue el año más humedo reportando un promedio de 1.49mm de precipitación.\n",
    "\n",
    "Mientras que **1998** fue el año más seco con un nivel de precipitación promedio de 0.51mm"
   ]
  },
  {
   "cell_type": "code",
   "execution_count": 24,
   "metadata": {},
   "outputs": [],
   "source": [
    "df['MES'] = df['FECHA'].dt.month"
   ]
  },
  {
   "cell_type": "code",
   "execution_count": 25,
   "metadata": {},
   "outputs": [],
   "source": [
    "df['AÑO'] = df['FECHA'].dt.year"
   ]
  },
  {
   "cell_type": "code",
   "execution_count": 26,
   "metadata": {},
   "outputs": [],
   "source": [
    "## Obtiene el indice de los datos que se encuentran en invierno (mes entre diciembre y marzo)\n",
    "Invi = []\n",
    "j = 0\n",
    "for i in range(0,7790):\n",
    "    if (df[\"MES\"][i] == 12 or df[\"MES\"][i] == 1 or df[\"MES\"][i] == 2 or df[\"MES\"][i] == 3):\n",
    "        Invi.append(i)\n"
   ]
  },
  {
   "cell_type": "code",
   "execution_count": 27,
   "metadata": {},
   "outputs": [
    {
     "data": {
      "text/plain": [
       "AÑOS\n",
       "1990    11.805882\n",
       "2011    12.722689\n",
       "1999    12.789256\n",
       "2007    13.103306\n",
       "1994    13.132231\n",
       "2000    13.176230\n",
       "1996    13.190083\n",
       "2008    13.204918\n",
       "2009    13.205128\n",
       "1997    13.350000\n",
       "1991    13.372449\n",
       "2001    13.379167\n",
       "2002    13.409091\n",
       "2010    13.433333\n",
       "2006    13.475207\n",
       "1998    13.549587\n",
       "1995    13.595833\n",
       "1993    13.720339\n",
       "1992    13.827869\n",
       "2004    13.840336\n",
       "2003    14.280992\n",
       "2005    14.304167\n",
       "Name: TMIN, dtype: float64"
      ]
     },
     "execution_count": 27,
     "metadata": {},
     "output_type": "execute_result"
    }
   ],
   "source": [
    "años = []\n",
    "temp = []\n",
    "\n",
    "inv = []\n",
    "for i in Invi:\n",
    "    años.append(df[\"AÑO\"][i])\n",
    "\n",
    "for i in Invi:\n",
    "    temp.append(df[\"TMIN\"][i])\n",
    "    \n",
    "inv = [años,temp]\n",
    "inviernos = pd.DataFrame({\n",
    "    'AÑOS': inv[0],\n",
    "    'TMIN': inv[1]},\n",
    "    index = range(0,len(años)))\n",
    "\n",
    "inviernos.groupby(\"AÑOS\")['TMIN'].mean().sort_values()\n"
   ]
  },
  {
   "cell_type": "markdown",
   "metadata": {},
   "source": [
    "Podemos ver que **1990** fue el año con el invierno más frío comparando el promedio de la temperatura minima en invierno de cada año"
   ]
  },
  {
   "cell_type": "code",
   "execution_count": 28,
   "metadata": {},
   "outputs": [],
   "source": [
    "## Obtiene el indice de los datos que se encuentran en verano (mes entre junio y septiembre)\n",
    "veri = []\n",
    "j = 0\n",
    "for i in range(0,7790):\n",
    "    if (df[\"MES\"][i] == 6 or df[\"MES\"][i] == 7 or df[\"MES\"][i] == 8 or df[\"MES\"][i] == 9):\n",
    "        veri.append(i)\n"
   ]
  },
  {
   "cell_type": "code",
   "execution_count": 29,
   "metadata": {},
   "outputs": [
    {
     "data": {
      "text/plain": [
       "AÑOS\n",
       "1990    34.845745\n",
       "1992    35.430328\n",
       "2008    35.859504\n",
       "1993    36.411017\n",
       "1997    36.483471\n",
       "1998    36.516393\n",
       "1994    36.599174\n",
       "2004    36.764463\n",
       "2007    36.845833\n",
       "2003    36.859504\n",
       "2005    36.924370\n",
       "1991    36.940678\n",
       "2009    37.077586\n",
       "2010    37.125000\n",
       "1996    37.304167\n",
       "2001    37.390756\n",
       "2006    37.400826\n",
       "1995    37.409836\n",
       "1999    37.422131\n",
       "2011    37.504167\n",
       "2000    37.607438\n",
       "2002    37.925620\n",
       "Name: TMAX, dtype: float64"
      ]
     },
     "execution_count": 29,
     "metadata": {},
     "output_type": "execute_result"
    }
   ],
   "source": [
    "años = []\n",
    "temp = []\n",
    "\n",
    "ver = []\n",
    "for i in veri:\n",
    "    años.append(df[\"AÑO\"][i])\n",
    "\n",
    "for i in veri:\n",
    "    temp.append(df[\"TMAX\"][i])\n",
    "    \n",
    "ver = [años,temp]\n",
    "veranos = pd.DataFrame({\n",
    "    'AÑOS': ver[0],\n",
    "    'TMAX': ver[1]},\n",
    "    index = range(0,len(años)))\n",
    "\n",
    "veranos.groupby(\"AÑOS\")['TMAX'].mean().sort_values()"
   ]
  },
  {
   "cell_type": "markdown",
   "metadata": {},
   "source": [
    "Podemos ver que el año con el verano más caluroso fue **2002** con una temperatura promedio de 37.92°C"
   ]
  },
  {
   "cell_type": "code",
   "execution_count": 33,
   "metadata": {},
   "outputs": [],
   "source": [
    "df['TMED'] = (df[\"TMAX\"]+df[\"TMIN\"])/2"
   ]
  },
  {
   "cell_type": "code",
   "execution_count": 77,
   "metadata": {},
   "outputs": [
    {
     "data": {
      "text/plain": [
       "579"
      ]
     },
     "execution_count": 77,
     "metadata": {},
     "output_type": "execute_result"
    }
   ],
   "source": [
    "## Obtiene el indice del ultimo dato que no necesito\n",
    "añosi = []\n",
    "j = -1\n",
    "for i in range(0,7790):\n",
    "    if (df[\"AÑO\"][i] == 1990 or df[\"AÑO\"][i] == 1991):\n",
    "        j=j+1\n",
    "        añosi.append(i)\n",
    "        \n",
    "añosi[j]"
   ]
  },
  {
   "cell_type": "code",
   "execution_count": 80,
   "metadata": {},
   "outputs": [],
   "source": [
    "#Lee la lista de datos solo con los ultimos 20 años\n",
    "df5 = pd.read_csv(\"obregon.txt\",skiprows = 579,sep='\\s+', names = [\"FECHA\",\"PRECIP\",\"EVAP\",\"TMAX\",\"TMIN\"] )"
   ]
  },
  {
   "cell_type": "code",
   "execution_count": 88,
   "metadata": {},
   "outputs": [],
   "source": [
    "df5['FECHA'] = pd.to_datetime(df5.FECHA)\n",
    "df5['MES'] = df5['FECHA'].dt.month\n",
    "df5['AÑO'] = df5['FECHA'].dt.year"
   ]
  },
  {
   "cell_type": "code",
   "execution_count": 85,
   "metadata": {},
   "outputs": [
    {
     "data": {
      "text/plain": [
       "MES\n",
       "1     20.792427\n",
       "2     21.901070\n",
       "3     23.027104\n",
       "4     24.983898\n",
       "5     27.229268\n",
       "6     29.593434\n",
       "7     29.923563\n",
       "8     29.747974\n",
       "9     29.198129\n",
       "10    26.440336\n",
       "11    22.857563\n",
       "12    20.376013\n",
       "Name: TMED, dtype: float64"
      ]
     },
     "execution_count": 85,
     "metadata": {},
     "output_type": "execute_result"
    }
   ],
   "source": [
    "df5['TMED'] = (df5[\"TMAX\"]+df5[\"TMIN\"])/2\n",
    "df5.groupby(\"MES\")[\"TMED\"].mean()"
   ]
  },
  {
   "cell_type": "markdown",
   "metadata": {},
   "source": [
    "Así ha sido el promedio de temperatura por mes en los ultimos **20 años**"
   ]
  },
  {
   "cell_type": "code",
   "execution_count": 89,
   "metadata": {},
   "outputs": [
    {
     "data": {
      "text/plain": [
       "AÑO\n",
       "1991    0.000000\n",
       "1992    1.497534\n",
       "1993    0.734375\n",
       "1994    1.259615\n",
       "1995    0.799176\n",
       "1996    1.008864\n",
       "1997    1.276860\n",
       "1998    0.512603\n",
       "1999    0.692877\n",
       "2000    0.796419\n",
       "2001    0.673130\n",
       "2002    0.957692\n",
       "2003    0.778846\n",
       "2004    1.375069\n",
       "2005    1.136415\n",
       "2006    0.571901\n",
       "2007    1.035813\n",
       "2008    1.131868\n",
       "2009    0.938066\n",
       "2010    0.717452\n",
       "2011    0.969444\n",
       "Name: PRECIP, dtype: float64"
      ]
     },
     "execution_count": 89,
     "metadata": {},
     "output_type": "execute_result"
    }
   ],
   "source": [
    "df5.groupby(\"AÑO\")[\"PRECIP\"].mean()"
   ]
  },
  {
   "cell_type": "markdown",
   "metadata": {},
   "source": [
    "Así ha sido el promedio de precipitaciones en los ultimos **20 años**"
   ]
  },
  {
   "cell_type": "code",
   "execution_count": null,
   "metadata": {},
   "outputs": [],
   "source": []
  }
 ],
 "metadata": {
  "kernelspec": {
   "display_name": "Python 3",
   "language": "python",
   "name": "python3"
  },
  "language_info": {
   "codemirror_mode": {
    "name": "ipython",
    "version": 3
   },
   "file_extension": ".py",
   "mimetype": "text/x-python",
   "name": "python",
   "nbconvert_exporter": "python",
   "pygments_lexer": "ipython3",
   "version": "3.7.1"
  }
 },
 "nbformat": 4,
 "nbformat_minor": 2
}
